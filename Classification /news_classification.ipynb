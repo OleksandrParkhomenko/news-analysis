{
 "cells": [
  {
   "cell_type": "markdown",
   "metadata": {},
   "source": [
    "# News Classification using SVM and Naive Bayes\n"
   ]
  },
  {
   "cell_type": "code",
   "execution_count": 186,
   "metadata": {},
   "outputs": [
    {
     "data": {
      "text/html": [
       "<div>\n",
       "<style scoped>\n",
       "    .dataframe tbody tr th:only-of-type {\n",
       "        vertical-align: middle;\n",
       "    }\n",
       "\n",
       "    .dataframe tbody tr th {\n",
       "        vertical-align: top;\n",
       "    }\n",
       "\n",
       "    .dataframe thead th {\n",
       "        text-align: right;\n",
       "    }\n",
       "</style>\n",
       "<table border=\"1\" class=\"dataframe\">\n",
       "  <thead>\n",
       "    <tr style=\"text-align: right;\">\n",
       "      <th></th>\n",
       "      <th>Unnamed: 0</th>\n",
       "      <th>Unnamed: 0.1</th>\n",
       "      <th>title</th>\n",
       "      <th>text</th>\n",
       "      <th>subject</th>\n",
       "      <th>date</th>\n",
       "      <th>tokenize_text</th>\n",
       "      <th>fake/true</th>\n",
       "    </tr>\n",
       "  </thead>\n",
       "  <tbody>\n",
       "    <tr>\n",
       "      <th>0</th>\n",
       "      <td>0</td>\n",
       "      <td>5230</td>\n",
       "      <td>Ex-President Bush says hopeful despite 'pretty...</td>\n",
       "      <td>(Reuters) - Former U.S. president George W. Bu...</td>\n",
       "      <td>politicsNews</td>\n",
       "      <td>February 28, 2017</td>\n",
       "      <td>president bush climate trump presidency optimi...</td>\n",
       "      <td>true</td>\n",
       "    </tr>\n",
       "    <tr>\n",
       "      <th>1</th>\n",
       "      <td>1</td>\n",
       "      <td>5012</td>\n",
       "      <td>Trump's revised travel ban dealt first court s...</td>\n",
       "      <td>(Reuters) - A federal judge in Wisconsin dealt...</td>\n",
       "      <td>politicsNews</td>\n",
       "      <td>March 11, 2017</td>\n",
       "      <td>judge blow president ban enforcement policy en...</td>\n",
       "      <td>true</td>\n",
       "    </tr>\n",
       "    <tr>\n",
       "      <th>2</th>\n",
       "      <td>2</td>\n",
       "      <td>7126</td>\n",
       "      <td>Trump outlines plans for first day in office, ...</td>\n",
       "      <td>NEW YORK/WASHINGTON (Reuters) - U.S. President...</td>\n",
       "      <td>politicsNews</td>\n",
       "      <td>November 21, 2016</td>\n",
       "      <td>york president trump day office trade accord w...</td>\n",
       "      <td>true</td>\n",
       "    </tr>\n",
       "    <tr>\n",
       "      <th>3</th>\n",
       "      <td>3</td>\n",
       "      <td>6470</td>\n",
       "      <td>Trump's EPA pick resigns from Rule of Law Defe...</td>\n",
       "      <td>(Reuters) - U.S. President-elect Donald Trump’...</td>\n",
       "      <td>politicsNews</td>\n",
       "      <td>January 7, 2017</td>\n",
       "      <td>president trump pick protection agency chairma...</td>\n",
       "      <td>true</td>\n",
       "    </tr>\n",
       "    <tr>\n",
       "      <th>4</th>\n",
       "      <td>4</td>\n",
       "      <td>13529</td>\n",
       "      <td>Bosnian Croat war crimes convict dies after ta...</td>\n",
       "      <td>THE HAGUE (Reuters) - A former Bosnian Croat m...</td>\n",
       "      <td>worldnews</td>\n",
       "      <td>November 29, 2017</td>\n",
       "      <td>commander poison war courtroom appeal year pri...</td>\n",
       "      <td>true</td>\n",
       "    </tr>\n",
       "    <tr>\n",
       "      <th>...</th>\n",
       "      <td>...</td>\n",
       "      <td>...</td>\n",
       "      <td>...</td>\n",
       "      <td>...</td>\n",
       "      <td>...</td>\n",
       "      <td>...</td>\n",
       "      <td>...</td>\n",
       "      <td>...</td>\n",
       "    </tr>\n",
       "    <tr>\n",
       "      <th>1962</th>\n",
       "      <td>962</td>\n",
       "      <td>15911</td>\n",
       "      <td>FORMER FBI ASST DIRECTOR LETS IT RIP! Comey’s ...</td>\n",
       "      <td>James Kallstrom is the former Assistant Direct...</td>\n",
       "      <td>Government News</td>\n",
       "      <td>Nov 9, 2017</td>\n",
       "      <td>assistant director fan director times intellig...</td>\n",
       "      <td>fake</td>\n",
       "    </tr>\n",
       "    <tr>\n",
       "      <th>1963</th>\n",
       "      <td>963</td>\n",
       "      <td>19785</td>\n",
       "      <td>ELECTION WHISTLEBLOWER: DOJ In Cahoots With De...</td>\n",
       "      <td>J. Christian Adams: Dead people are voting and...</td>\n",
       "      <td>left-news</td>\n",
       "      <td>Oct 18, 2016</td>\n",
       "      <td>people something administration anything voter...</td>\n",
       "      <td>fake</td>\n",
       "    </tr>\n",
       "    <tr>\n",
       "      <th>1964</th>\n",
       "      <td>964</td>\n",
       "      <td>15379</td>\n",
       "      <td>THE FIX IS IN: JUDGE QUICKLY BLOCKS ABORTION V...</td>\n",
       "      <td>Judge William H. Orrick, III joins Obama in hi...</td>\n",
       "      <td>politics</td>\n",
       "      <td>Aug 1, 2015</td>\n",
       "      <td>judge desire parenthood abortion order release...</td>\n",
       "      <td>fake</td>\n",
       "    </tr>\n",
       "    <tr>\n",
       "      <th>1965</th>\n",
       "      <td>965</td>\n",
       "      <td>20445</td>\n",
       "      <td>SCREAMING LEFTISTS Interrupt Trump Speech…Crow...</td>\n",
       "      <td>Screaming leftists interrupted Donald Trump s ...</td>\n",
       "      <td>left-news</td>\n",
       "      <td>Jun 10, 2016</td>\n",
       "      <td>trump speech today faith freedom conference tr...</td>\n",
       "      <td>fake</td>\n",
       "    </tr>\n",
       "    <tr>\n",
       "      <th>1966</th>\n",
       "      <td>966</td>\n",
       "      <td>13385</td>\n",
       "      <td>WOW! WATCH Journalist Cassandra Fairbanks: “Wh...</td>\n",
       "      <td>Cassandra s points about why she s supporting ...</td>\n",
       "      <td>politics</td>\n",
       "      <td>Jul 30, 2016</td>\n",
       "      <td>trump sense lure stuff democrat house security...</td>\n",
       "      <td>fake</td>\n",
       "    </tr>\n",
       "  </tbody>\n",
       "</table>\n",
       "<p>1967 rows × 8 columns</p>\n",
       "</div>"
      ],
      "text/plain": [
       "      Unnamed: 0  Unnamed: 0.1  \\\n",
       "0              0          5230   \n",
       "1              1          5012   \n",
       "2              2          7126   \n",
       "3              3          6470   \n",
       "4              4         13529   \n",
       "...          ...           ...   \n",
       "1962         962         15911   \n",
       "1963         963         19785   \n",
       "1964         964         15379   \n",
       "1965         965         20445   \n",
       "1966         966         13385   \n",
       "\n",
       "                                                  title  \\\n",
       "0     Ex-President Bush says hopeful despite 'pretty...   \n",
       "1     Trump's revised travel ban dealt first court s...   \n",
       "2     Trump outlines plans for first day in office, ...   \n",
       "3     Trump's EPA pick resigns from Rule of Law Defe...   \n",
       "4     Bosnian Croat war crimes convict dies after ta...   \n",
       "...                                                 ...   \n",
       "1962  FORMER FBI ASST DIRECTOR LETS IT RIP! Comey’s ...   \n",
       "1963  ELECTION WHISTLEBLOWER: DOJ In Cahoots With De...   \n",
       "1964  THE FIX IS IN: JUDGE QUICKLY BLOCKS ABORTION V...   \n",
       "1965  SCREAMING LEFTISTS Interrupt Trump Speech…Crow...   \n",
       "1966  WOW! WATCH Journalist Cassandra Fairbanks: “Wh...   \n",
       "\n",
       "                                                   text          subject  \\\n",
       "0     (Reuters) - Former U.S. president George W. Bu...     politicsNews   \n",
       "1     (Reuters) - A federal judge in Wisconsin dealt...     politicsNews   \n",
       "2     NEW YORK/WASHINGTON (Reuters) - U.S. President...     politicsNews   \n",
       "3     (Reuters) - U.S. President-elect Donald Trump’...     politicsNews   \n",
       "4     THE HAGUE (Reuters) - A former Bosnian Croat m...        worldnews   \n",
       "...                                                 ...              ...   \n",
       "1962  James Kallstrom is the former Assistant Direct...  Government News   \n",
       "1963  J. Christian Adams: Dead people are voting and...        left-news   \n",
       "1964  Judge William H. Orrick, III joins Obama in hi...         politics   \n",
       "1965  Screaming leftists interrupted Donald Trump s ...        left-news   \n",
       "1966  Cassandra s points about why she s supporting ...         politics   \n",
       "\n",
       "                    date                                      tokenize_text  \\\n",
       "0     February 28, 2017   president bush climate trump presidency optimi...   \n",
       "1        March 11, 2017   judge blow president ban enforcement policy en...   \n",
       "2     November 21, 2016   york president trump day office trade accord w...   \n",
       "3       January 7, 2017   president trump pick protection agency chairma...   \n",
       "4     November 29, 2017   commander poison war courtroom appeal year pri...   \n",
       "...                  ...                                                ...   \n",
       "1962         Nov 9, 2017  assistant director fan director times intellig...   \n",
       "1963        Oct 18, 2016  people something administration anything voter...   \n",
       "1964         Aug 1, 2015  judge desire parenthood abortion order release...   \n",
       "1965        Jun 10, 2016  trump speech today faith freedom conference tr...   \n",
       "1966        Jul 30, 2016  trump sense lure stuff democrat house security...   \n",
       "\n",
       "     fake/true  \n",
       "0         true  \n",
       "1         true  \n",
       "2         true  \n",
       "3         true  \n",
       "4         true  \n",
       "...        ...  \n",
       "1962      fake  \n",
       "1963      fake  \n",
       "1964      fake  \n",
       "1965      fake  \n",
       "1966      fake  \n",
       "\n",
       "[1967 rows x 8 columns]"
      ]
     },
     "execution_count": 186,
     "metadata": {},
     "output_type": "execute_result"
    }
   ],
   "source": [
    "import pandas as pd\n",
    "news = pd.read_csv(\"../Datasets/AllNews.csv\")\n",
    "news"
   ]
  },
  {
   "cell_type": "markdown",
   "metadata": {},
   "source": [
    "## Classify by subjects\n",
    "\n",
    "### Prepare Train and Test Data sets\n",
    "\n",
    "Split dataset into two, training and test. \n",
    "The training data set will be used to fit the model and the predictions will be performed on the test data set.This can be done through the train_test_split from the sklearn library. The Training Data will have 70% of the corpus and Test data will have the remaining 30% as we have set the parameter test_size=0.3 ."
   ]
  },
  {
   "cell_type": "code",
   "execution_count": 187,
   "metadata": {},
   "outputs": [],
   "source": [
    "from sklearn import model_selection, naive_bayes, svm\n",
    "from sklearn.metrics import accuracy_score\n",
    "\n",
    "Train_X, Test_X, Train_Y, Test_Y = model_selection.train_test_split(news['tokenize_text'], news['subject'],test_size=0.3)"
   ]
  },
  {
   "cell_type": "markdown",
   "metadata": {},
   "source": [
    "### Encoding\n",
    "Label encode the target variable — This is done to transform Categorical data of string type in the data set into numerical values which the model can understand."
   ]
  },
  {
   "cell_type": "code",
   "execution_count": 188,
   "metadata": {},
   "outputs": [],
   "source": [
    "from sklearn.preprocessing import LabelEncoder\n",
    "import numpy as np\n",
    "\n",
    "Encoder = LabelEncoder()\n",
    "Train_Y = Encoder.fit_transform(Train_Y)\n",
    "Test_Y = Encoder.fit_transform(Test_Y)  "
   ]
  },
  {
   "cell_type": "markdown",
   "metadata": {},
   "source": [
    "### Feature Extraction with TF-IDF"
   ]
  },
  {
   "cell_type": "code",
   "execution_count": 189,
   "metadata": {},
   "outputs": [],
   "source": [
    "from sklearn.feature_extraction.text import TfidfVectorizer\n",
    "#text = news['tokenize_text'].head(10).values.astype('U')\n",
    "\n",
    "Tfidf_vect = TfidfVectorizer(max_features=5000)\n",
    "Tfidf_vect.fit(news['tokenize_text'].values.astype('U'))\n",
    "Train_X_Tfidf = Tfidf_vect.transform(Train_X)\n",
    "Test_X_Tfidf = Tfidf_vect.transform(Test_X)"
   ]
  },
  {
   "cell_type": "code",
   "execution_count": 190,
   "metadata": {},
   "outputs": [
    {
     "name": "stdout",
     "output_type": "stream",
     "text": [
      "Naive Bayes Accuracy Score ->  56.683587140439926\n"
     ]
    }
   ],
   "source": [
    "# fit the training dataset on the NB classifier\n",
    "Naive = naive_bayes.MultinomialNB()\n",
    "Naive.fit(Train_X_Tfidf,Train_Y)\n",
    "# predict the labels on validation dataset\n",
    "predictions_NB = Naive.predict(Test_X_Tfidf)\n",
    "# Use accuracy_score function to get the accuracy\n",
    "print(\"Naive Bayes Accuracy Score -> \",accuracy_score(predictions_NB, Test_Y)*100)\n"
   ]
  },
  {
   "cell_type": "code",
   "execution_count": 191,
   "metadata": {},
   "outputs": [
    {
     "name": "stdout",
     "output_type": "stream",
     "text": [
      "SVM Accuracy Score ->  67.68189509306261\n"
     ]
    }
   ],
   "source": [
    "# Classifier - Algorithm - SVM\n",
    "# fit the training dataset on the classifier\n",
    "SVM = svm.SVC(C=1.0, kernel='linear', degree=3, gamma='auto')\n",
    "SVM.fit(Train_X_Tfidf,Train_Y)\n",
    "# predict the labels on validation dataset\n",
    "predictions_SVM = SVM.predict(Test_X_Tfidf)\n",
    "# Use accuracy_score function to get the accuracy\n",
    "print(\"SVM Accuracy Score -> \",accuracy_score(predictions_SVM, Test_Y)*100)"
   ]
  },
  {
   "cell_type": "markdown",
   "metadata": {},
   "source": [
    "## Classify to fake/true news\n",
    "\n",
    "### Prepare Train and Test datasets and Encoding"
   ]
  },
  {
   "cell_type": "code",
   "execution_count": 192,
   "metadata": {},
   "outputs": [],
   "source": [
    "Train_X, Test_X, Train_Y, Test_Y = model_selection.train_test_split(news['tokenize_text'], news['fake/true'],test_size=0.3)\n",
    "\n",
    "Encoder = LabelEncoder()\n",
    "Train_Y = Encoder.fit_transform(Train_Y)\n",
    "Test_Y = Encoder.fit_transform(Test_Y)"
   ]
  },
  {
   "cell_type": "markdown",
   "metadata": {},
   "source": [
    "### Feature Extraction with TF-IDF"
   ]
  },
  {
   "cell_type": "code",
   "execution_count": 193,
   "metadata": {},
   "outputs": [],
   "source": [
    "Tfidf_vect = TfidfVectorizer(max_features=5000)\n",
    "Tfidf_vect.fit(news['tokenize_text'].values.astype('U'))\n",
    "Train_X_Tfidf = Tfidf_vect.transform(Train_X)\n",
    "Test_X_Tfidf = Tfidf_vect.transform(Test_X)\n"
   ]
  },
  {
   "cell_type": "markdown",
   "metadata": {},
   "source": [
    "### Naive Bayes"
   ]
  },
  {
   "cell_type": "code",
   "execution_count": 194,
   "metadata": {},
   "outputs": [
    {
     "name": "stdout",
     "output_type": "stream",
     "text": [
      "Naive Bayes Accuracy Score ->  87.64805414551607\n"
     ]
    }
   ],
   "source": [
    "# fit the training dataset on the NB classifier\n",
    "Naive = naive_bayes.MultinomialNB()\n",
    "Naive.fit(Train_X_Tfidf,Train_Y)\n",
    "# predict the labels on validation dataset\n",
    "predictions_NB = Naive.predict(Test_X_Tfidf)\n",
    "# Use accuracy_score function to get the accuracy\n",
    "print(\"Naive Bayes Accuracy Score -> \",accuracy_score(predictions_NB, Test_Y)*100)\n"
   ]
  },
  {
   "cell_type": "markdown",
   "metadata": {},
   "source": [
    "### SVM"
   ]
  },
  {
   "cell_type": "code",
   "execution_count": 195,
   "metadata": {},
   "outputs": [
    {
     "name": "stdout",
     "output_type": "stream",
     "text": [
      "SVM Accuracy Score ->  90.18612521150592\n"
     ]
    }
   ],
   "source": [
    "# Classifier - Algorithm - SVM\n",
    "# fit the training dataset on the classifier\n",
    "SVM = svm.SVC(C=1.0, kernel='linear', degree=3, gamma='auto')\n",
    "SVM.fit(Train_X_Tfidf,Train_Y)\n",
    "# predict the labels on validation dataset\n",
    "predictions_SVM = SVM.predict(Test_X_Tfidf)\n",
    "# Use accuracy_score function to get the accuracy\n",
    "print(\"SVM Accuracy Score -> \",accuracy_score(predictions_SVM, Test_Y)*100)"
   ]
  }
 ],
 "metadata": {
  "kernelspec": {
   "display_name": "Python 3",
   "language": "python",
   "name": "python3"
  },
  "language_info": {
   "codemirror_mode": {
    "name": "ipython",
    "version": 3
   },
   "file_extension": ".py",
   "mimetype": "text/x-python",
   "name": "python",
   "nbconvert_exporter": "python",
   "pygments_lexer": "ipython3",
   "version": "3.6.9"
  }
 },
 "nbformat": 4,
 "nbformat_minor": 4
}
